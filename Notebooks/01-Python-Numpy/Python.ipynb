{
  "cells": [
    {
      "cell_type": "markdown",
      "metadata": {
        "id": "SVh7tPn0P9sY"
      },
      "source": [
        "# Basic Data Types"
      ]
    },
    {
      "cell_type": "markdown",
      "metadata": {
        "id": "hBJuLi7kQPSW"
      },
      "source": [
        "### Integers"
      ]
    },
    {
      "cell_type": "code",
      "execution_count": 1,
      "metadata": {
        "colab": {
          "base_uri": "https://localhost:8080/"
        },
        "id": "6OmuVrqoP-7_",
        "outputId": "545c248c-8f3a-42c1-eaba-02319cb2c185"
      },
      "outputs": [
        {
          "data": {
            "text/plain": [
              "10"
            ]
          },
          "execution_count": 1,
          "metadata": {},
          "output_type": "execute_result"
        }
      ],
      "source": [
        "10"
      ]
    },
    {
      "cell_type": "code",
      "execution_count": 2,
      "metadata": {
        "colab": {
          "base_uri": "https://localhost:8080/"
        },
        "id": "i_PSMtyxQTbH",
        "outputId": "97e574c9-0407-4b1b-ef84-f2319416ffeb"
      },
      "outputs": [
        {
          "data": {
            "text/plain": [
              "-10"
            ]
          },
          "execution_count": 2,
          "metadata": {},
          "output_type": "execute_result"
        }
      ],
      "source": [
        "-10"
      ]
    },
    {
      "cell_type": "markdown",
      "metadata": {
        "id": "9g2WBSDiQVlQ"
      },
      "source": [
        "there is no limit to how large an integer can be"
      ]
    },
    {
      "cell_type": "code",
      "execution_count": 3,
      "metadata": {
        "colab": {
          "base_uri": "https://localhost:8080/"
        },
        "id": "5bwLns5lQT_X",
        "outputId": "bfd6fe68-16f0-428c-d559-d998cf0e4850"
      },
      "outputs": [
        {
          "data": {
            "text/plain": [
              "10000000000000000000000000000000000000000000000000000000000000000000"
            ]
          },
          "execution_count": 3,
          "metadata": {},
          "output_type": "execute_result"
        }
      ],
      "source": [
        "9999999999999999999999999999999999999999999999999999999999999999999+1"
      ]
    },
    {
      "cell_type": "markdown",
      "metadata": {
        "id": "ZZse_zE-Qjon"
      },
      "source": [
        "### Floating point numbers"
      ]
    },
    {
      "cell_type": "code",
      "execution_count": 4,
      "metadata": {
        "colab": {
          "base_uri": "https://localhost:8080/"
        },
        "id": "VZgBIo_RQe0U",
        "outputId": "0b7030d0-5c49-450a-dce2-5b7466dcdc34"
      },
      "outputs": [
        {
          "data": {
            "text/plain": [
              "4.2"
            ]
          },
          "execution_count": 4,
          "metadata": {},
          "output_type": "execute_result"
        }
      ],
      "source": [
        "4.2"
      ]
    },
    {
      "cell_type": "code",
      "execution_count": 5,
      "metadata": {
        "colab": {
          "base_uri": "https://localhost:8080/"
        },
        "id": "WlicH9VeQm1C",
        "outputId": "36430961-2a44-4bac-d99d-ab8aa5203d10"
      },
      "outputs": [
        {
          "data": {
            "text/plain": [
              "10.0"
            ]
          },
          "execution_count": 5,
          "metadata": {},
          "output_type": "execute_result"
        }
      ],
      "source": [
        "10."
      ]
    },
    {
      "cell_type": "code",
      "execution_count": 6,
      "metadata": {
        "colab": {
          "base_uri": "https://localhost:8080/"
        },
        "id": "vPo-hPJsQodp",
        "outputId": "c0af91f5-2030-45fb-816f-41b7b2d48163"
      },
      "outputs": [
        {
          "data": {
            "text/plain": [
              "0.2"
            ]
          },
          "execution_count": 6,
          "metadata": {},
          "output_type": "execute_result"
        }
      ],
      "source": [
        ".2"
      ]
    },
    {
      "cell_type": "code",
      "execution_count": 7,
      "metadata": {
        "colab": {
          "base_uri": "https://localhost:8080/"
        },
        "id": "ah8P3EYTQtF1",
        "outputId": "56dd65be-a1ee-4967-b1cd-f28627df3497"
      },
      "outputs": [
        {
          "data": {
            "text/plain": [
              "30000000.0"
            ]
          },
          "execution_count": 7,
          "metadata": {},
          "output_type": "execute_result"
        }
      ],
      "source": [
        "3e7"
      ]
    },
    {
      "cell_type": "markdown",
      "metadata": {},
      "source": [
        "The `type()` function can be used to check the data type of any value."
      ]
    },
    {
      "cell_type": "code",
      "execution_count": 8,
      "metadata": {
        "colab": {
          "base_uri": "https://localhost:8080/"
        },
        "id": "xrHU_y09Quw9",
        "outputId": "b38e2210-765d-4e36-e767-ad10d1863a6b"
      },
      "outputs": [
        {
          "data": {
            "text/plain": [
              "float"
            ]
          },
          "execution_count": 8,
          "metadata": {},
          "output_type": "execute_result"
        }
      ],
      "source": [
        "type(5e9)"
      ]
    },
    {
      "cell_type": "code",
      "execution_count": 9,
      "metadata": {
        "colab": {
          "base_uri": "https://localhost:8080/"
        },
        "id": "GNk3Bp1WQxDu",
        "outputId": "22ea27d8-65c6-4ced-ae36-5c9f23d00621"
      },
      "outputs": [
        {
          "data": {
            "text/plain": [
              "1.79e+308"
            ]
          },
          "execution_count": 9,
          "metadata": {},
          "output_type": "execute_result"
        }
      ],
      "source": [
        "1.79e308"
      ]
    },
    {
      "cell_type": "markdown",
      "metadata": {},
      "source": [
        "Floats have a maximum value they can represent.\n",
        "This is beyond the limit and results in 'inf' (infinity)."
      ]
    },
    {
      "cell_type": "code",
      "execution_count": 10,
      "metadata": {
        "colab": {
          "base_uri": "https://localhost:8080/"
        },
        "id": "mRigzDIxQ_xR",
        "outputId": "6e5db9b1-0b62-4269-e594-735d712312bc"
      },
      "outputs": [
        {
          "data": {
            "text/plain": [
              "inf"
            ]
          },
          "execution_count": 10,
          "metadata": {},
          "output_type": "execute_result"
        }
      ],
      "source": [
        "1.8e308"
      ]
    },
    {
      "cell_type": "code",
      "execution_count": 11,
      "metadata": {
        "colab": {
          "base_uri": "https://localhost:8080/"
        },
        "id": "kfZcSOL9RCBU",
        "outputId": "06bf4550-4356-4356-825e-746eacefda7d"
      },
      "outputs": [
        {
          "data": {
            "text/plain": [
              "5e-324"
            ]
          },
          "execution_count": 11,
          "metadata": {},
          "output_type": "execute_result"
        }
      ],
      "source": [
        "5e-324"
      ]
    },
    {
      "cell_type": "markdown",
      "metadata": {},
      "source": [
        "They also have a minimum precision near zero."
      ]
    },
    {
      "cell_type": "code",
      "execution_count": 12,
      "metadata": {
        "colab": {
          "base_uri": "https://localhost:8080/"
        },
        "id": "jaDzRcQuRFfu",
        "outputId": "a862f88d-fd51-4a1f-ff72-c96ac589c826"
      },
      "outputs": [
        {
          "data": {
            "text/plain": [
              "0.0"
            ]
          },
          "execution_count": 12,
          "metadata": {},
          "output_type": "execute_result"
        }
      ],
      "source": [
        "1e-324"
      ]
    },
    {
      "cell_type": "markdown",
      "metadata": {},
      "source": [
        "Floating-point arithmetic is not always 100% precise. Because computers store floats in binary, some decimal numbers can't be represented perfectly. This is why the following comparison is False. The result of 1.1 + 2.2 is actually something like 3.3000000000000003."
      ]
    },
    {
      "cell_type": "code",
      "execution_count": 13,
      "metadata": {
        "colab": {
          "base_uri": "https://localhost:8080/"
        },
        "id": "iMb42W3dRG2X",
        "outputId": "05b0b696-7eb8-445f-dee6-91d9d36f6bb7"
      },
      "outputs": [
        {
          "data": {
            "text/plain": [
              "False"
            ]
          },
          "execution_count": 13,
          "metadata": {},
          "output_type": "execute_result"
        }
      ],
      "source": [
        "1.1 + 2.2 == 3.3"
      ]
    },
    {
      "cell_type": "markdown",
      "metadata": {
        "id": "cYvtISBBRkCi"
      },
      "source": [
        "### Complex number"
      ]
    },
    {
      "cell_type": "code",
      "execution_count": 14,
      "metadata": {
        "colab": {
          "base_uri": "https://localhost:8080/"
        },
        "id": "znAwi2vPRRA0",
        "outputId": "372227fb-5ce5-4cf8-cf1a-8c915ece441f"
      },
      "outputs": [
        {
          "data": {
            "text/plain": [
              "(4+5j)"
            ]
          },
          "execution_count": 14,
          "metadata": {},
          "output_type": "execute_result"
        }
      ],
      "source": [
        "4 + 5j"
      ]
    },
    {
      "cell_type": "code",
      "execution_count": 15,
      "metadata": {
        "colab": {
          "base_uri": "https://localhost:8080/"
        },
        "id": "Blcx8dDfRmmd",
        "outputId": "fe12017f-f9bf-40e3-8203-fffc256812ed"
      },
      "outputs": [
        {
          "data": {
            "text/plain": [
              "complex"
            ]
          },
          "execution_count": 15,
          "metadata": {},
          "output_type": "execute_result"
        }
      ],
      "source": [
        "type(2-5j)"
      ]
    },
    {
      "cell_type": "markdown",
      "metadata": {
        "id": "nTHB8TFbR9jy"
      },
      "source": [
        "### String"
      ]
    },
    {
      "cell_type": "code",
      "execution_count": 16,
      "metadata": {
        "colab": {
          "base_uri": "https://localhost:8080/",
          "height": 36
        },
        "id": "WRw3dZdZRqiX",
        "outputId": "956444f5-a1ee-4939-ebba-b8ce14c1b870"
      },
      "outputs": [
        {
          "data": {
            "text/plain": [
              "\"This string contains a single quote (') character.\""
            ]
          },
          "execution_count": 16,
          "metadata": {},
          "output_type": "execute_result"
        }
      ],
      "source": [
        "\"This string contains a single quote (') character.\""
      ]
    },
    {
      "cell_type": "code",
      "execution_count": 17,
      "metadata": {
        "colab": {
          "base_uri": "https://localhost:8080/",
          "height": 36
        },
        "id": "lS7GBiUPR8dq",
        "outputId": "50c68808-fc48-4f2a-9862-5424f4499035"
      },
      "outputs": [
        {
          "data": {
            "text/plain": [
              "\"This string contains a single quote (') character.\""
            ]
          },
          "execution_count": 17,
          "metadata": {},
          "output_type": "execute_result"
        }
      ],
      "source": [
        "'This string contains a single quote (\\') character.'"
      ]
    },
    {
      "cell_type": "code",
      "execution_count": 18,
      "metadata": {
        "colab": {
          "base_uri": "https://localhost:8080/",
          "height": 36
        },
        "id": "YBXicxwZSC8p",
        "outputId": "fac3b2c8-acd1-47a5-be47-0b76e68cb617"
      },
      "outputs": [
        {
          "data": {
            "text/plain": [
              "'→'"
            ]
          },
          "execution_count": 18,
          "metadata": {},
          "output_type": "execute_result"
        }
      ],
      "source": [
        "'\\u2192' # Unicode"
      ]
    },
    {
      "cell_type": "code",
      "execution_count": 19,
      "metadata": {
        "colab": {
          "base_uri": "https://localhost:8080/"
        },
        "id": "1hnquSq_SNVc",
        "outputId": "ee2aaeb6-4806-452f-c091-50d3a0d47614"
      },
      "outputs": [
        {
          "name": "stdout",
          "output_type": "stream",
          "text": [
            "This string has a single (') and a double (\") quote.\n"
          ]
        }
      ],
      "source": [
        "print('''This string has a single (') and a double (\") quote.''')"
      ]
    },
    {
      "cell_type": "code",
      "execution_count": 20,
      "metadata": {
        "colab": {
          "base_uri": "https://localhost:8080/",
          "height": 106
        },
        "id": "xy8lXmLRSbRj",
        "outputId": "a2edf91a-4c68-4811-c8f4-5a226169ebc3"
      },
      "outputs": [],
      "source": [
        "# print(\"hello\n",
        "# world\")"
      ]
    },
    {
      "cell_type": "code",
      "execution_count": 21,
      "metadata": {
        "colab": {
          "base_uri": "https://localhost:8080/"
        },
        "id": "6spS90sJSfuA",
        "outputId": "5ef35ed5-1c63-4360-9764-5b401d626220"
      },
      "outputs": [
        {
          "name": "stdout",
          "output_type": "stream",
          "text": [
            "This is a\n",
            "string that spans\n",
            "across several lines\n"
          ]
        }
      ],
      "source": [
        "print(\"\"\"This is a\n",
        "string that spans\n",
        "across several lines\"\"\")"
      ]
    },
    {
      "cell_type": "markdown",
      "metadata": {
        "id": "fo1gXM-0Smh3"
      },
      "source": [
        "### Boolean"
      ]
    },
    {
      "cell_type": "code",
      "execution_count": 22,
      "metadata": {
        "colab": {
          "base_uri": "https://localhost:8080/"
        },
        "id": "zSZFiaOgSh7s",
        "outputId": "5c8335b6-92be-424c-f965-b3ba02e12b86"
      },
      "outputs": [
        {
          "data": {
            "text/plain": [
              "True"
            ]
          },
          "execution_count": 22,
          "metadata": {},
          "output_type": "execute_result"
        }
      ],
      "source": [
        "True"
      ]
    },
    {
      "cell_type": "code",
      "execution_count": 23,
      "metadata": {
        "colab": {
          "base_uri": "https://localhost:8080/"
        },
        "id": "t5aKPCUJSpip",
        "outputId": "a748f39a-4798-4541-eaf0-e5ff2d6ced40"
      },
      "outputs": [
        {
          "data": {
            "text/plain": [
              "False"
            ]
          },
          "execution_count": 23,
          "metadata": {},
          "output_type": "execute_result"
        }
      ],
      "source": [
        "False"
      ]
    },
    {
      "cell_type": "markdown",
      "metadata": {
        "id": "7Woucu03S0sh"
      },
      "source": [
        "# Variables"
      ]
    },
    {
      "cell_type": "markdown",
      "metadata": {
        "id": "Y8qGTYGZS-xy"
      },
      "source": [
        "### Variable assignment"
      ]
    },
    {
      "cell_type": "markdown",
      "metadata": {},
      "source": [
        "Python is dynamically typed, meaning a variable can be reassigned"
      ]
    },
    {
      "cell_type": "code",
      "execution_count": 24,
      "metadata": {
        "id": "stSvaRxyS6VD"
      },
      "outputs": [],
      "source": [
        "n = 300"
      ]
    },
    {
      "cell_type": "code",
      "execution_count": 25,
      "metadata": {
        "colab": {
          "base_uri": "https://localhost:8080/"
        },
        "id": "1B6LrMXpTC0T",
        "outputId": "730b434c-78f5-4214-fe69-14977b24ab60"
      },
      "outputs": [
        {
          "data": {
            "text/plain": [
              "300"
            ]
          },
          "execution_count": 25,
          "metadata": {},
          "output_type": "execute_result"
        }
      ],
      "source": [
        "n"
      ]
    },
    {
      "cell_type": "code",
      "execution_count": 26,
      "metadata": {
        "id": "h1CFNx_TTDvI"
      },
      "outputs": [],
      "source": [
        "a = 4.6"
      ]
    },
    {
      "cell_type": "code",
      "execution_count": 27,
      "metadata": {
        "id": "qvt4-MLQTJHo"
      },
      "outputs": [],
      "source": [
        "a = \"salam man yek string hastam\""
      ]
    },
    {
      "cell_type": "code",
      "execution_count": 28,
      "metadata": {
        "colab": {
          "base_uri": "https://localhost:8080/"
        },
        "id": "G8VjeRZbTNQU",
        "outputId": "83d659fe-da64-4749-d2d3-d6ed578dc748"
      },
      "outputs": [
        {
          "name": "stdout",
          "output_type": "stream",
          "text": [
            "salam man yek string hastam\n"
          ]
        }
      ],
      "source": [
        "print(a)"
      ]
    },
    {
      "cell_type": "markdown",
      "metadata": {},
      "source": [
        "1. Must start with a letter or underscore (_).\n",
        "2. Cannot start with a number.\n",
        "3. Can only contain letters, numbers, and underscores (A-z, 0-9, _).\n",
        "4. Are case-sensitive (age, Age, AGE are different variables).\n",
        "5. Cannot be a Python keyword (like 'def', 'if', 'class')."
      ]
    },
    {
      "cell_type": "code",
      "execution_count": 29,
      "metadata": {
        "id": "igXuVvIbTOdK"
      },
      "outputs": [],
      "source": [
        "# 1a = 1\n",
        "# a@ = 1\n",
        "# def = 4  --> keyword"
      ]
    },
    {
      "cell_type": "markdown",
      "metadata": {},
      "source": [
        "#### Multiple Assignment"
      ]
    },
    {
      "cell_type": "code",
      "execution_count": 30,
      "metadata": {},
      "outputs": [
        {
          "name": "stdout",
          "output_type": "stream",
          "text": [
            "a is : 1\n",
            "b is : 2\n"
          ]
        }
      ],
      "source": [
        "a, b = 1, 2\n",
        "print(\"a is :\", a)\n",
        "print(\"b is :\", b)"
      ]
    },
    {
      "cell_type": "markdown",
      "metadata": {},
      "source": [
        "Simple swap code"
      ]
    },
    {
      "cell_type": "code",
      "execution_count": 31,
      "metadata": {},
      "outputs": [
        {
          "name": "stdout",
          "output_type": "stream",
          "text": [
            "a is now: 2\n",
            "b is now: 1\n"
          ]
        }
      ],
      "source": [
        "a, b = b, a\n",
        "print(\"a is now:\", a)\n",
        "print(\"b is now:\", b)"
      ]
    },
    {
      "cell_type": "markdown",
      "metadata": {
        "id": "PB5vNu4WTyv_"
      },
      "source": [
        "# Operators"
      ]
    },
    {
      "cell_type": "markdown",
      "metadata": {
        "id": "8DUFYmUIT2rd"
      },
      "source": [
        "### Simple Arithmetic Operators"
      ]
    },
    {
      "cell_type": "code",
      "execution_count": 32,
      "metadata": {},
      "outputs": [
        {
          "name": "stdout",
          "output_type": "stream",
          "text": [
            "3\n",
            "-1\n",
            "2\n",
            "1.3333333333333333\n",
            "1\n",
            "9\n",
            "1\n"
          ]
        }
      ],
      "source": [
        "print(1 + 2)    # Addition\n",
        "print(1 - 2)    # Subtraction\n",
        "print(1 * 2)    # Multiplication\n",
        "print(4 / 3)    # Division (always results in a float)\n",
        "print(4 // 3)   # Floor Division (discards the fractional part)\n",
        "print(3**2)     # Exponent (3 to the power of 2)\n",
        "print(16 % 3)   # Modulus (returns the remainder of the division)"
      ]
    },
    {
      "cell_type": "markdown",
      "metadata": {
        "id": "TbUHyRN6UIG2"
      },
      "source": [
        "### Comparison Operators"
      ]
    },
    {
      "cell_type": "code",
      "execution_count": 33,
      "metadata": {},
      "outputs": [
        {
          "name": "stdout",
          "output_type": "stream",
          "text": [
            "False\n",
            "True\n",
            "False\n",
            "False\n"
          ]
        }
      ],
      "source": [
        "print(1 == 2)   # Equal\n",
        "print(1 != 2)   # Not equal\n",
        "print(1 > 2)    # Greater than\n",
        "print(1 >= 2)   # Greater than or equal to"
      ]
    },
    {
      "cell_type": "markdown",
      "metadata": {
        "id": "SfzoGq2nUlND"
      },
      "source": [
        "### Logical Operators"
      ]
    },
    {
      "cell_type": "code",
      "execution_count": 34,
      "metadata": {},
      "outputs": [
        {
          "name": "stdout",
          "output_type": "stream",
          "text": [
            "False\n",
            "True\n",
            "True\n"
          ]
        }
      ],
      "source": [
        "print((1 < 5) and (6 < 3)) # 'and' is True only if both sides are True\n",
        "print((1 > 5) or (6 > 3))  # 'or' is True if at least one side is True\n",
        "print(not (1 > 5))         # 'not' inverts the boolean value"
      ]
    },
    {
      "cell_type": "markdown",
      "metadata": {
        "id": "J9NTl1pqU5GY"
      },
      "source": [
        "### Assignment Operators"
      ]
    },
    {
      "cell_type": "code",
      "execution_count": 35,
      "metadata": {},
      "outputs": [
        {
          "name": "stdout",
          "output_type": "stream",
          "text": [
            "1.0\n"
          ]
        }
      ],
      "source": [
        "x = 10\n",
        "x = x + 2 # The long way\n",
        "x += 2    # The short way (x is now 14)\n",
        "x -= 3    # x is now 11\n",
        "x *= 2    # x is now 22\n",
        "x /= 2\n",
        "x //= 2\n",
        "x **= 2\n",
        "x %= 2\n",
        "print(x)"
      ]
    },
    {
      "cell_type": "markdown",
      "metadata": {
        "id": "iSoKzX_zVSyG"
      },
      "source": [
        "### Membership Operators"
      ]
    },
    {
      "cell_type": "code",
      "execution_count": 36,
      "metadata": {
        "colab": {
          "base_uri": "https://localhost:8080/"
        },
        "id": "OKI2tLVVVYQd",
        "outputId": "03facafa-30a6-4c63-8d88-024191d86084"
      },
      "outputs": [
        {
          "data": {
            "text/plain": [
              "True"
            ]
          },
          "execution_count": 36,
          "metadata": {},
          "output_type": "execute_result"
        }
      ],
      "source": [
        "'a' in 'ali'"
      ]
    },
    {
      "cell_type": "code",
      "execution_count": 37,
      "metadata": {
        "colab": {
          "base_uri": "https://localhost:8080/"
        },
        "id": "4Db5gE91Va5l",
        "outputId": "4e56ccca-58d9-4b4f-92fc-6fff6d554b12"
      },
      "outputs": [
        {
          "data": {
            "text/plain": [
              "True"
            ]
          },
          "execution_count": 37,
          "metadata": {},
          "output_type": "execute_result"
        }
      ],
      "source": [
        "'h' not in 'salam'"
      ]
    },
    {
      "cell_type": "code",
      "execution_count": 38,
      "metadata": {},
      "outputs": [
        {
          "data": {
            "text/plain": [
              "True"
            ]
          },
          "execution_count": 38,
          "metadata": {},
          "output_type": "execute_result"
        }
      ],
      "source": [
        "'AIC' in 'SBU-AIC'"
      ]
    },
    {
      "cell_type": "markdown",
      "metadata": {
        "id": "pgI7DFLQV1pW"
      },
      "source": [
        "# Basic String Operations"
      ]
    },
    {
      "cell_type": "markdown",
      "metadata": {
        "id": "3ULDJDOiXSHv"
      },
      "source": [
        "### Concatenation"
      ]
    },
    {
      "cell_type": "code",
      "execution_count": 39,
      "metadata": {
        "id": "djTJdb10XDk8"
      },
      "outputs": [],
      "source": [
        "name = \"Jack\"\n",
        "last_name = \"White\"\n",
        "full_name = name +\" \"+ last_name"
      ]
    },
    {
      "cell_type": "code",
      "execution_count": 40,
      "metadata": {
        "colab": {
          "base_uri": "https://localhost:8080/"
        },
        "id": "uUQ_Q9c9XKSd",
        "outputId": "a2620310-749a-43cf-c7a1-0ed458673ed3"
      },
      "outputs": [
        {
          "name": "stdout",
          "output_type": "stream",
          "text": [
            "Jack White\n"
          ]
        }
      ],
      "source": [
        "print(full_name)"
      ]
    },
    {
      "cell_type": "markdown",
      "metadata": {
        "id": "McofBIkxXVSK"
      },
      "source": [
        "### Indexing and Slicing"
      ]
    },
    {
      "cell_type": "code",
      "execution_count": 41,
      "metadata": {
        "colab": {
          "base_uri": "https://localhost:8080/",
          "height": 36
        },
        "id": "j7hAUARoXMJt",
        "outputId": "87ab9000-75ba-4bac-b6c5-c49c491e5998"
      },
      "outputs": [
        {
          "data": {
            "text/plain": [
              "'a'"
            ]
          },
          "execution_count": 41,
          "metadata": {},
          "output_type": "execute_result"
        }
      ],
      "source": [
        "full_name[1]"
      ]
    },
    {
      "cell_type": "markdown",
      "metadata": {},
      "source": [
        "Gets the second to last character."
      ]
    },
    {
      "cell_type": "code",
      "execution_count": 42,
      "metadata": {
        "colab": {
          "base_uri": "https://localhost:8080/",
          "height": 36
        },
        "id": "U7WqsHX9XivU",
        "outputId": "d9efed4e-0a9c-43ca-ba38-5711045a4830"
      },
      "outputs": [
        {
          "data": {
            "text/plain": [
              "'t'"
            ]
          },
          "execution_count": 42,
          "metadata": {},
          "output_type": "execute_result"
        }
      ],
      "source": [
        "full_name[-2]"
      ]
    },
    {
      "cell_type": "markdown",
      "metadata": {},
      "source": [
        "Gets characters from index 2 up to (but not including) 5."
      ]
    },
    {
      "cell_type": "code",
      "execution_count": 43,
      "metadata": {
        "colab": {
          "base_uri": "https://localhost:8080/",
          "height": 36
        },
        "id": "mmfyULVmXf8z",
        "outputId": "111eb5db-868e-4f6e-ba99-b7483683675a"
      },
      "outputs": [
        {
          "data": {
            "text/plain": [
              "'ck '"
            ]
          },
          "execution_count": 43,
          "metadata": {},
          "output_type": "execute_result"
        }
      ],
      "source": [
        "full_name[2:5]"
      ]
    },
    {
      "cell_type": "markdown",
      "metadata": {},
      "source": [
        "You can omit parts of the slice."
      ]
    },
    {
      "cell_type": "code",
      "execution_count": 44,
      "metadata": {
        "colab": {
          "base_uri": "https://localhost:8080/",
          "height": 36
        },
        "id": "viwObLBAXmMW",
        "outputId": "c080cfb2-6cfc-4adc-815f-9de957e5f94f"
      },
      "outputs": [
        {
          "name": "stdout",
          "output_type": "stream",
          "text": [
            "Jack \n",
            "White\n"
          ]
        }
      ],
      "source": [
        "print(full_name[:5])    # From the beginning up to index 5.\n",
        "print(full_name[5:])    # From index 5 to the end."
      ]
    },
    {
      "cell_type": "markdown",
      "metadata": {},
      "source": [
        "A step of -1 is a common trick to reverse a string."
      ]
    },
    {
      "cell_type": "code",
      "execution_count": 45,
      "metadata": {},
      "outputs": [
        {
          "name": "stdout",
          "output_type": "stream",
          "text": [
            "etihW kcaJ\n"
          ]
        }
      ],
      "source": [
        "print(full_name[::-1])"
      ]
    },
    {
      "cell_type": "markdown",
      "metadata": {
        "id": "PT1cKBZSYKwZ"
      },
      "source": [
        "string[start:stop:step]"
      ]
    },
    {
      "cell_type": "code",
      "execution_count": 46,
      "metadata": {
        "id": "tzjhQ2-dYM26"
      },
      "outputs": [],
      "source": [
        "a='12345'\n",
        "a = a*3"
      ]
    },
    {
      "cell_type": "code",
      "execution_count": 47,
      "metadata": {
        "colab": {
          "base_uri": "https://localhost:8080/",
          "height": 36
        },
        "id": "7l6G8KjzYSUT",
        "outputId": "95aae71a-b1ff-46c7-8524-67333a803a41"
      },
      "outputs": [
        {
          "data": {
            "text/plain": [
              "'123451234512345'"
            ]
          },
          "execution_count": 47,
          "metadata": {},
          "output_type": "execute_result"
        }
      ],
      "source": [
        "a"
      ]
    },
    {
      "cell_type": "code",
      "execution_count": 48,
      "metadata": {
        "colab": {
          "base_uri": "https://localhost:8080/",
          "height": 36
        },
        "id": "TRSixHbPYTVc",
        "outputId": "77971f18-fb1a-4954-f4d4-e9ae96bb9d7a"
      },
      "outputs": [
        {
          "data": {
            "text/plain": [
              "'111'"
            ]
          },
          "execution_count": 48,
          "metadata": {},
          "output_type": "execute_result"
        }
      ],
      "source": [
        "a[::5]"
      ]
    },
    {
      "cell_type": "markdown",
      "metadata": {
        "id": "GmUYKgSLX3lq"
      },
      "source": [
        "### String Length"
      ]
    },
    {
      "cell_type": "markdown",
      "metadata": {},
      "source": [
        "The `len()` function gets the length (number of characters) of a string."
      ]
    },
    {
      "cell_type": "code",
      "execution_count": 49,
      "metadata": {
        "colab": {
          "base_uri": "https://localhost:8080/"
        },
        "id": "6Gt8M5H7XxcD",
        "outputId": "9cdc0bfe-122c-4a17-c05e-b99fd1dbc65a"
      },
      "outputs": [
        {
          "data": {
            "text/plain": [
              "10"
            ]
          },
          "execution_count": 49,
          "metadata": {},
          "output_type": "execute_result"
        }
      ],
      "source": [
        "len(full_name)"
      ]
    },
    {
      "cell_type": "markdown",
      "metadata": {
        "id": "xgt5BXYSZK7F"
      },
      "source": [
        "# Input"
      ]
    },
    {
      "cell_type": "markdown",
      "metadata": {},
      "source": [
        "The `input()` function prompts the user for input and reads a line of text.\n",
        "CRITICAL: `input()` always returns a string."
      ]
    },
    {
      "cell_type": "code",
      "execution_count": 50,
      "metadata": {
        "colab": {
          "base_uri": "https://localhost:8080/"
        },
        "id": "GWiEBmTSZNOC",
        "outputId": "390bee69-9d7b-46d2-811b-f3b46c94f64c"
      },
      "outputs": [
        {
          "name": "stdout",
          "output_type": "stream",
          "text": [
            "<class 'str'>\n"
          ]
        }
      ],
      "source": [
        "user_text = input(\"Enter some text: \")\n",
        "print(type(user_text))"
      ]
    },
    {
      "cell_type": "markdown",
      "metadata": {},
      "source": [
        "To perform math, you must convert the string input to a number type.\n",
        "This is called \"type casting\"."
      ]
    },
    {
      "cell_type": "code",
      "execution_count": 51,
      "metadata": {
        "colab": {
          "base_uri": "https://localhost:8080/"
        },
        "id": "G8Qh03W6ZUAc",
        "outputId": "9d3bbed6-fe68-4620-9111-d25d31b9ed55"
      },
      "outputs": [
        {
          "name": "stdout",
          "output_type": "stream",
          "text": [
            "In 25 years, you will be: 47\n"
          ]
        }
      ],
      "source": [
        "age_str = input(\"How old are you? \")\n",
        "age = int(age_str) # Cast the string to an integer\n",
        "print(\"In 25 years, you will be:\", age + 25)"
      ]
    },
    {
      "cell_type": "markdown",
      "metadata": {},
      "source": [
        "The `print()` function can take multiple arguments."
      ]
    },
    {
      "cell_type": "code",
      "execution_count": 52,
      "metadata": {
        "colab": {
          "base_uri": "https://localhost:8080/"
        },
        "id": "xSnAFRNgZYXP",
        "outputId": "fd39a832-927d-4426-8be6-2eb5230d052d"
      },
      "outputs": [
        {
          "name": "stdout",
          "output_type": "stream",
          "text": [
            "I am 22 years old\n"
          ]
        }
      ],
      "source": [
        "print(\"I am\", age, \"years old\")"
      ]
    },
    {
      "cell_type": "markdown",
      "metadata": {
        "id": "sloM8qtWae2j"
      },
      "source": [
        "# Advanced Data Structures"
      ]
    },
    {
      "cell_type": "markdown",
      "metadata": {},
      "source": [
        "These structures are used to store collections of data."
      ]
    },
    {
      "cell_type": "markdown",
      "metadata": {
        "id": "k4eY_Fj6alAs"
      },
      "source": [
        "### Lists\n",
        "Lists are ordered, changeable (mutable), and can contain duplicate items of any data type. They are created with square brackets []."
      ]
    },
    {
      "cell_type": "code",
      "execution_count": 53,
      "metadata": {
        "id": "G_IS-6NzakNn"
      },
      "outputs": [],
      "source": [
        "x = [1, 2, 2.5, \"salam\", [43,34]]"
      ]
    },
    {
      "cell_type": "markdown",
      "metadata": {},
      "source": [
        "A list can contain other lists, creating a nested structure."
      ]
    },
    {
      "cell_type": "code",
      "execution_count": 54,
      "metadata": {},
      "outputs": [],
      "source": [
        "nested_list = [[2, 2], [4, [5]], [[[[[14]]]]]]"
      ]
    },
    {
      "cell_type": "code",
      "execution_count": 55,
      "metadata": {
        "id": "JaBFx-hKauZV"
      },
      "outputs": [],
      "source": [
        "x[2] = 3"
      ]
    },
    {
      "cell_type": "code",
      "execution_count": 56,
      "metadata": {
        "colab": {
          "base_uri": "https://localhost:8080/"
        },
        "id": "C3tDLJ1_a7Ih",
        "outputId": "f3535f3c-6181-47e5-a294-de594e44d9ad"
      },
      "outputs": [
        {
          "data": {
            "text/plain": [
              "[1, 2, 3, 'salam', [43, 34]]"
            ]
          },
          "execution_count": 56,
          "metadata": {},
          "output_type": "execute_result"
        }
      ],
      "source": [
        "x"
      ]
    },
    {
      "cell_type": "code",
      "execution_count": 57,
      "metadata": {
        "colab": {
          "base_uri": "https://localhost:8080/"
        },
        "id": "-0H1nHUha7p5",
        "outputId": "2c96a006-fd85-438d-a4d7-86b432cedca0"
      },
      "outputs": [
        {
          "data": {
            "text/plain": [
              "[1, 2, 3]"
            ]
          },
          "execution_count": 57,
          "metadata": {},
          "output_type": "execute_result"
        }
      ],
      "source": [
        "x[:3]"
      ]
    },
    {
      "cell_type": "code",
      "execution_count": 58,
      "metadata": {
        "id": "swiOWF-ia-bw"
      },
      "outputs": [],
      "source": [
        "x.append(\"2\")"
      ]
    },
    {
      "cell_type": "code",
      "execution_count": 59,
      "metadata": {
        "colab": {
          "base_uri": "https://localhost:8080/",
          "height": 36
        },
        "id": "ASY9GHVzbYiZ",
        "outputId": "6cfd2b37-8b3b-4ae5-f1e4-c0aa495f1e62"
      },
      "outputs": [
        {
          "data": {
            "text/plain": [
              "'2'"
            ]
          },
          "execution_count": 59,
          "metadata": {},
          "output_type": "execute_result"
        }
      ],
      "source": [
        "x.pop()"
      ]
    },
    {
      "cell_type": "code",
      "execution_count": 60,
      "metadata": {
        "colab": {
          "base_uri": "https://localhost:8080/"
        },
        "id": "DacwH3OUbZtk",
        "outputId": "7f218c2a-e409-4aa9-f27b-76fd00b17ad4"
      },
      "outputs": [
        {
          "data": {
            "text/plain": [
              "[1, 2, 3, 'salam', [43, 34]]"
            ]
          },
          "execution_count": 60,
          "metadata": {},
          "output_type": "execute_result"
        }
      ],
      "source": [
        "x"
      ]
    },
    {
      "cell_type": "code",
      "execution_count": 61,
      "metadata": {
        "colab": {
          "base_uri": "https://localhost:8080/"
        },
        "id": "ADKzSayIbbU5",
        "outputId": "799673ac-2228-475f-e1f1-557034bc482d"
      },
      "outputs": [
        {
          "data": {
            "text/plain": [
              "True"
            ]
          },
          "execution_count": 61,
          "metadata": {},
          "output_type": "execute_result"
        }
      ],
      "source": [
        "'salam' in x"
      ]
    },
    {
      "cell_type": "markdown",
      "metadata": {},
      "source": [
        "#### Sorting Lists"
      ]
    },
    {
      "cell_type": "code",
      "execution_count": 62,
      "metadata": {},
      "outputs": [],
      "source": [
        "unsorted_list = [1, 2, 50, 12, 99, -46]"
      ]
    },
    {
      "cell_type": "markdown",
      "metadata": {},
      "source": [
        "`sorted()` is a function that returns a NEW sorted list, leaving the original unchanged.\n"
      ]
    },
    {
      "cell_type": "code",
      "execution_count": 63,
      "metadata": {
        "colab": {
          "base_uri": "https://localhost:8080/"
        },
        "id": "iGEm3yghcjSk",
        "outputId": "0402a483-9173-423a-eca4-6aa9df73adf7"
      },
      "outputs": [
        {
          "name": "stdout",
          "output_type": "stream",
          "text": [
            "[-46, 1, 2, 12, 50, 99]\n",
            "Original list is still: [1, 2, 50, 12, 99, -46]\n"
          ]
        }
      ],
      "source": [
        "print(sorted(unsorted_list))\n",
        "print(\"Original list is still:\", unsorted_list)"
      ]
    },
    {
      "cell_type": "markdown",
      "metadata": {},
      "source": [
        "`.sort()` is a method that sorts the list IN-PLACE (modifies the original) and returns None."
      ]
    },
    {
      "cell_type": "code",
      "execution_count": 64,
      "metadata": {
        "id": "V9NMmxIPcwbx"
      },
      "outputs": [
        {
          "name": "stdout",
          "output_type": "stream",
          "text": [
            "Original list is now sorted: [99, 50, 12, 2, 1, -46]\n"
          ]
        }
      ],
      "source": [
        "unsorted_list.sort(reverse=True) # Sorts in descending order\n",
        "print(\"Original list is now sorted:\", unsorted_list)"
      ]
    },
    {
      "cell_type": "markdown",
      "metadata": {},
      "source": [
        "You can concatenate lists with the '+' operator."
      ]
    },
    {
      "cell_type": "code",
      "execution_count": 65,
      "metadata": {
        "id": "4ZE3Ur9Tc9IH"
      },
      "outputs": [],
      "source": [
        "list1 = [1, -1, 5, 4]\n",
        "list2 = [2, 7, 0, -2]\n",
        "list3 = list1 + list2"
      ]
    },
    {
      "cell_type": "markdown",
      "metadata": {},
      "source": [
        "##### List Comprehensions"
      ]
    },
    {
      "cell_type": "markdown",
      "metadata": {},
      "source": [
        "A concise and \"Pythonic\" way to create lists."
      ]
    },
    {
      "cell_type": "code",
      "execution_count": 66,
      "metadata": {},
      "outputs": [],
      "source": [
        "my_list = [1, 2, 3, 4, 5]"
      ]
    },
    {
      "cell_type": "code",
      "execution_count": 67,
      "metadata": {},
      "outputs": [
        {
          "name": "stdout",
          "output_type": "stream",
          "text": [
            "From comprehension: [11, 12, 13, 14, 15]\n"
          ]
        }
      ],
      "source": [
        "new_list_comp = [item + 10 for item in my_list]\n",
        "print(\"From comprehension:\", new_list_comp)"
      ]
    },
    {
      "cell_type": "code",
      "execution_count": 68,
      "metadata": {},
      "outputs": [
        {
          "name": "stdout",
          "output_type": "stream",
          "text": [
            "From loop: [11, 12, 13, 14, 15]\n"
          ]
        }
      ],
      "source": [
        "new_list_loop = []\n",
        "for item in my_list:\n",
        "    new_item = item + 10\n",
        "    new_list_loop.append(new_item)\n",
        "print(\"From loop:\", new_list_loop)"
      ]
    },
    {
      "cell_type": "markdown",
      "metadata": {
        "id": "XBxsipwhdJhM"
      },
      "source": [
        "### Tuples\n",
        "Tuples are ordered but UNCHANGEABLE (immutable). They are created with parentheses ().\n",
        " They are slightly more memory-efficient than lists and are used for data that should not be changed."
      ]
    },
    {
      "cell_type": "code",
      "execution_count": 69,
      "metadata": {
        "id": "6xBlvhkIdGWV"
      },
      "outputs": [],
      "source": [
        "my_tuple = (1,2,3,4) "
      ]
    },
    {
      "cell_type": "code",
      "execution_count": 70,
      "metadata": {
        "colab": {
          "base_uri": "https://localhost:8080/"
        },
        "id": "7Kguq9pXdTMm",
        "outputId": "b096fa9f-34fb-4f75-8a52-60343366bfa2"
      },
      "outputs": [
        {
          "data": {
            "text/plain": [
              "3"
            ]
          },
          "execution_count": 70,
          "metadata": {},
          "output_type": "execute_result"
        }
      ],
      "source": [
        "my_tuple[2]"
      ]
    },
    {
      "cell_type": "markdown",
      "metadata": {},
      "source": [
        "This line will cause a TypeError because you cannot change a tuple's elements."
      ]
    },
    {
      "cell_type": "code",
      "execution_count": 71,
      "metadata": {
        "colab": {
          "base_uri": "https://localhost:8080/",
          "height": 146
        },
        "id": "W5W423XjdUsl",
        "outputId": "950db26a-2c9a-4855-c92f-8cf6f0ded8f2"
      },
      "outputs": [],
      "source": [
        "# my_tuple[2] = 4"
      ]
    },
    {
      "cell_type": "markdown",
      "metadata": {
        "id": "BHptVFRmdkjW"
      },
      "source": [
        "### Sets\n",
        "Sets are unordered, mutable collections with NO DUPLICATE elements.\n",
        " They are created with curly braces {}."
      ]
    },
    {
      "cell_type": "code",
      "execution_count": 72,
      "metadata": {
        "id": "TCKZjtEwdYPI"
      },
      "outputs": [],
      "source": [
        "my_set = {2,4,5,\"hello\"}"
      ]
    },
    {
      "cell_type": "code",
      "execution_count": 73,
      "metadata": {
        "id": "KTUKkGn0dtTQ"
      },
      "outputs": [],
      "source": [
        "my_set.add(25)"
      ]
    },
    {
      "cell_type": "code",
      "execution_count": 74,
      "metadata": {
        "colab": {
          "base_uri": "https://localhost:8080/"
        },
        "id": "HSdpKUU5dwIu",
        "outputId": "b8de15c7-bdce-492a-abd4-45cf065c4b6a"
      },
      "outputs": [
        {
          "data": {
            "text/plain": [
              "{2, 25, 4, 5, 'hello'}"
            ]
          },
          "execution_count": 74,
          "metadata": {},
          "output_type": "execute_result"
        }
      ],
      "source": [
        "my_set"
      ]
    },
    {
      "cell_type": "markdown",
      "metadata": {},
      "source": [
        "Sets are highly optimized for membership testing."
      ]
    },
    {
      "cell_type": "code",
      "execution_count": 75,
      "metadata": {
        "colab": {
          "base_uri": "https://localhost:8080/"
        },
        "id": "L1ON9fEzd-64",
        "outputId": "ecc2de64-ad9a-4bbe-8d8e-0aff922f7858"
      },
      "outputs": [
        {
          "name": "stdout",
          "output_type": "stream",
          "text": [
            "False\n"
          ]
        }
      ],
      "source": [
        "print(1 in my_set)"
      ]
    },
    {
      "cell_type": "markdown",
      "metadata": {},
      "source": [
        "### Set vs List\n",
        "Set vs. List Performance for Membership Testing\n",
        " Checking if an item is 'in' a set is much faster than checking a list,\n",
        " especially for large collections. Sets use a hash table for instant lookups,\n",
        " while lists may have to check every single element.\n",
        " The code below demonstrates this by searching a collection of 10 million items."
      ]
    },
    {
      "cell_type": "code",
      "execution_count": 76,
      "metadata": {
        "colab": {
          "base_uri": "https://localhost:8080/"
        },
        "id": "BvPM7tAXeJJV",
        "outputId": "f796f815-2817-4fba-fd44-a4e7f2d61bfa"
      },
      "outputs": [
        {
          "name": "stdout",
          "output_type": "stream",
          "text": [
            "List search time: 0.093096 seconds\n",
            "Set search time: 0.000035 seconds\n",
            "Set is 2638.34x faster\n",
            "Element 9999999 found in list: True\n",
            "Element 9999999 found in set: True\n"
          ]
        }
      ],
      "source": [
        "import time\n",
        "import random\n",
        "\n",
        "# Create a large list and set with the same elements\n",
        "size = 10000000\n",
        "sample_list = list(range(size))\n",
        "sample_set = set(range(size))\n",
        "\n",
        "# Element to search for (near the end to simulate worst-case scenario)\n",
        "target = size - 1\n",
        "\n",
        "# Measure time for list search\n",
        "start_time = time.time()\n",
        "list_result = target in sample_list\n",
        "list_time = time.time() - start_time\n",
        "\n",
        "# Measure time for set search\n",
        "start_time = time.time()\n",
        "set_result = target in sample_set\n",
        "set_time = time.time() - start_time\n",
        "\n",
        "# Print results\n",
        "print(f\"List search time: {list_time:.6f} seconds\")\n",
        "print(f\"Set search time: {set_time:.6f} seconds\")\n",
        "print(f\"Set is {list_time/set_time:.2f}x faster\" if set_time > 0 else \"Set is infinitely faster\")\n",
        "print(f\"Element {target} found in list: {list_result}\")\n",
        "print(f\"Element {target} found in set: {set_result}\")"
      ]
    },
    {
      "cell_type": "markdown",
      "metadata": {
        "id": "FjdiLcsKgUKS"
      },
      "source": [
        "### Dictionary\n",
        "Dictionaries store data in key-value pairs.\n",
        " They are ordered (as of Python 3.7), mutable, and do not allow duplicate keys.\n",
        " They are highly optimized for retrieving a value when you know its key."
      ]
    },
    {
      "cell_type": "code",
      "execution_count": 77,
      "metadata": {
        "id": "Qzg6RA9BgVli"
      },
      "outputs": [],
      "source": [
        "my_dict = {\"Jack\":\"White\",\n",
        "           \"Sara\":\"Single\",\n",
        "           \"sib\":50,\n",
        "           \"Apple\":23,\n",
        "           12:15,\n",
        "           14:\"salam\"}"
      ]
    },
    {
      "cell_type": "code",
      "execution_count": 78,
      "metadata": {
        "colab": {
          "base_uri": "https://localhost:8080/"
        },
        "id": "C8iL9d1Oglsf",
        "outputId": "3f2d9c01-6379-4397-92eb-83bad84c9fe8"
      },
      "outputs": [
        {
          "data": {
            "text/plain": [
              "dict_keys(['Jack', 'Sara', 'sib', 'Apple', 12, 14])"
            ]
          },
          "execution_count": 78,
          "metadata": {},
          "output_type": "execute_result"
        }
      ],
      "source": [
        "my_dict.keys()"
      ]
    },
    {
      "cell_type": "code",
      "execution_count": 79,
      "metadata": {
        "colab": {
          "base_uri": "https://localhost:8080/"
        },
        "id": "xNCzkJ80g4EJ",
        "outputId": "3877b9a7-c988-4538-81dc-d27290a20eb2"
      },
      "outputs": [
        {
          "data": {
            "text/plain": [
              "dict_values(['White', 'Single', 50, 23, 15, 'salam'])"
            ]
          },
          "execution_count": 79,
          "metadata": {},
          "output_type": "execute_result"
        }
      ],
      "source": [
        "my_dict.values()"
      ]
    },
    {
      "cell_type": "code",
      "execution_count": 80,
      "metadata": {
        "colab": {
          "base_uri": "https://localhost:8080/"
        },
        "id": "O__LcjHVg6Pv",
        "outputId": "e85cee12-99a9-42fa-ab28-b1b96070b18e"
      },
      "outputs": [
        {
          "data": {
            "text/plain": [
              "dict_items([('Jack', 'White'), ('Sara', 'Single'), ('sib', 50), ('Apple', 23), (12, 15), (14, 'salam')])"
            ]
          },
          "execution_count": 80,
          "metadata": {},
          "output_type": "execute_result"
        }
      ],
      "source": [
        "my_dict.items()"
      ]
    },
    {
      "cell_type": "code",
      "execution_count": 81,
      "metadata": {
        "colab": {
          "base_uri": "https://localhost:8080/"
        },
        "id": "zaRy99DRg8pW",
        "outputId": "2c64f5b9-875b-451a-ee52-94f6cce955d8"
      },
      "outputs": [
        {
          "data": {
            "text/plain": [
              "15"
            ]
          },
          "execution_count": 81,
          "metadata": {},
          "output_type": "execute_result"
        }
      ],
      "source": [
        "my_dict[12]"
      ]
    },
    {
      "cell_type": "code",
      "execution_count": 82,
      "metadata": {
        "colab": {
          "base_uri": "https://localhost:8080/"
        },
        "id": "-J8WtaGBhAcK",
        "outputId": "e7835d1d-19a3-4430-a165-7c0ad7cbd471"
      },
      "outputs": [
        {
          "name": "stdout",
          "output_type": "stream",
          "text": [
            "{1: 1, 'name': 'Mohammad'}\n",
            "{'name': 'Mohammad'}\n"
          ]
        }
      ],
      "source": [
        "new_dict = {1:1}\n",
        "new_dict[\"name\"] = \"Mohammad\" # Add\n",
        "print(new_dict)\n",
        "new_dict.pop(1) # remove item\n",
        "print(new_dict)"
      ]
    },
    {
      "cell_type": "markdown",
      "metadata": {},
      "source": [
        "# Control Flow"
      ]
    },
    {
      "cell_type": "markdown",
      "metadata": {
        "id": "I0DTQeLzh0Q6"
      },
      "source": [
        "### Conditional Statements (if/elif/else)\n",
        "Indentation is very important here."
      ]
    },
    {
      "cell_type": "code",
      "execution_count": 83,
      "metadata": {
        "colab": {
          "base_uri": "https://localhost:8080/"
        },
        "id": "JU7S9HHBh4ZP",
        "outputId": "cb43e854-e3cf-495e-f278-a9a0f94981cb"
      },
      "outputs": [
        {
          "name": "stdout",
          "output_type": "stream",
          "text": [
            "a is 5\n",
            "a was 5\n",
            "a is 6 now\n"
          ]
        }
      ],
      "source": [
        "a = 5\n",
        "if a == 5:\n",
        "    print(\"a is 5\")\n",
        "    print(\"a was 5\")\n",
        "    a = 6\n",
        "    if a == 6:\n",
        "        print(\"a is 6 now\")"
      ]
    },
    {
      "cell_type": "code",
      "execution_count": 84,
      "metadata": {
        "colab": {
          "base_uri": "https://localhost:8080/"
        },
        "id": "DNxHkUWfibCz",
        "outputId": "df3df6c6-5f1d-4ed7-e91e-d0dbb2eac0f8"
      },
      "outputs": [
        {
          "name": "stdout",
          "output_type": "stream",
          "text": [
            "else\n"
          ]
        }
      ],
      "source": [
        "statement = False\n",
        "if statement:\n",
        "    print(\"if condition\")\n",
        "else:\n",
        "    print(\"else\")"
      ]
    },
    {
      "cell_type": "code",
      "execution_count": 85,
      "metadata": {
        "colab": {
          "base_uri": "https://localhost:8080/"
        },
        "id": "mnjrn-mUitjr",
        "outputId": "3aefefd5-6f8d-4547-cdcb-992bc945bf7e"
      },
      "outputs": [
        {
          "name": "stdout",
          "output_type": "stream",
          "text": [
            "a is 35\n"
          ]
        }
      ],
      "source": [
        "a = 35\n",
        "if a == 25:\n",
        "    print(\"a is 25\")\n",
        "elif a == 30:\n",
        "    print(\"a is 30\")\n",
        "elif a == 35:\n",
        "    print(\"a is 35\")"
      ]
    },
    {
      "cell_type": "markdown",
      "metadata": {
        "id": "9QNRNYHOjebL"
      },
      "source": [
        "### Loops"
      ]
    },
    {
      "cell_type": "markdown",
      "metadata": {
        "id": "zxOtlFlFjf90"
      },
      "source": [
        "##### `while` loop"
      ]
    },
    {
      "cell_type": "code",
      "execution_count": 86,
      "metadata": {
        "colab": {
          "base_uri": "https://localhost:8080/"
        },
        "id": "Wpyaq-dEjfhy",
        "outputId": "6397067e-992c-46ea-812d-bbde9fede8aa"
      },
      "outputs": [
        {
          "name": "stdout",
          "output_type": "stream",
          "text": [
            "2\n",
            "3\n",
            "4\n",
            "5\n"
          ]
        }
      ],
      "source": [
        "x = 1\n",
        "while x < 5:\n",
        "    x +=1\n",
        "    print(x)"
      ]
    },
    {
      "cell_type": "markdown",
      "metadata": {},
      "source": [
        "You can use `break` to exit a loop prematurely."
      ]
    },
    {
      "cell_type": "code",
      "execution_count": 87,
      "metadata": {},
      "outputs": [
        {
          "name": "stdout",
          "output_type": "stream",
          "text": [
            "This loop will run once.\n"
          ]
        }
      ],
      "source": [
        "while True: \n",
        "    print(\"This loop will run once.\")\n",
        "    break"
      ]
    },
    {
      "cell_type": "markdown",
      "metadata": {
        "id": "pZ8uef-pjzW0"
      },
      "source": [
        "##### `for` loop"
      ]
    },
    {
      "cell_type": "code",
      "execution_count": 88,
      "metadata": {
        "colab": {
          "base_uri": "https://localhost:8080/"
        },
        "id": "06im2DZAjsMf",
        "outputId": "72ecc286-31d3-4808-b49d-83d2172c6dd9"
      },
      "outputs": [
        {
          "name": "stdout",
          "output_type": "stream",
          "text": [
            "1\n",
            "4\n",
            "7\n",
            "10\n",
            "13\n",
            "16\n",
            "19\n"
          ]
        }
      ],
      "source": [
        "for i in range(1,20,3):\n",
        "    print(i)"
      ]
    },
    {
      "cell_type": "code",
      "execution_count": 89,
      "metadata": {
        "colab": {
          "base_uri": "https://localhost:8080/"
        },
        "id": "FmjUzuEBj4e4",
        "outputId": "8fe3b286-411f-4923-dd08-39cc0fbf308b"
      },
      "outputs": [
        {
          "name": "stdout",
          "output_type": "stream",
          "text": [
            "nima\n",
            "sara\n",
            "akbar\n",
            "narges\n"
          ]
        }
      ],
      "source": [
        "usernames = [\"nima\",\"sara\",\"akbar\",\"narges\"]\n",
        "for username in usernames:\n",
        "    print(username)"
      ]
    },
    {
      "cell_type": "code",
      "execution_count": 90,
      "metadata": {
        "id": "yMLUtrjskQWS"
      },
      "outputs": [],
      "source": [
        "my_dict = {'Amir':1,\"Saeid\":2,\"Fatemeh\":3}"
      ]
    },
    {
      "cell_type": "code",
      "execution_count": 91,
      "metadata": {
        "colab": {
          "base_uri": "https://localhost:8080/"
        },
        "id": "nPNgGJ0xkm8A",
        "outputId": "10ca48bc-59b3-4462-a9f7-d0ff443ce31b"
      },
      "outputs": [
        {
          "name": "stdout",
          "output_type": "stream",
          "text": [
            "Amir 1\n",
            "Saeid 2\n",
            "Fatemeh 3\n"
          ]
        }
      ],
      "source": [
        "for key, value in my_dict.items():\n",
        "    print(key,value)"
      ]
    },
    {
      "cell_type": "markdown",
      "metadata": {},
      "source": [
        "`enumerate()` is useful when you need both the index and the item."
      ]
    },
    {
      "cell_type": "code",
      "execution_count": 92,
      "metadata": {
        "colab": {
          "base_uri": "https://localhost:8080/"
        },
        "id": "bZTEisOzkrgU",
        "outputId": "559af6d0-a462-468a-fdde-7a77d9675741"
      },
      "outputs": [
        {
          "name": "stdout",
          "output_type": "stream",
          "text": [
            "0 nima\n",
            "1 sara\n",
            "2 akbar\n",
            "3 narges\n"
          ]
        }
      ],
      "source": [
        "for i , username in enumerate(usernames):\n",
        "    print(i, username)"
      ]
    },
    {
      "cell_type": "markdown",
      "metadata": {
        "id": "ruiY1_Gglb8g"
      },
      "source": [
        "# Functions"
      ]
    },
    {
      "cell_type": "code",
      "execution_count": 93,
      "metadata": {
        "id": "xMiqIH_Xldfi"
      },
      "outputs": [],
      "source": [
        "def factorial(n):\n",
        "    '''\n",
        "    This is a docstring. It explains what the function does.\n",
        "    It takes an integer n and returns its factorial (n!).\n",
        "    This is a recursive function because it calls itself.\n",
        "    '''\n",
        "    if n == 0:\n",
        "       return 1\n",
        "\n",
        "    return n * factorial(n-1)"
      ]
    },
    {
      "cell_type": "code",
      "execution_count": 94,
      "metadata": {
        "colab": {
          "base_uri": "https://localhost:8080/"
        },
        "id": "_yTLJwKElgy5",
        "outputId": "821210a3-b910-49d5-d708-392d64954da3"
      },
      "outputs": [
        {
          "name": "stdout",
          "output_type": "stream",
          "text": [
            "120\n"
          ]
        }
      ],
      "source": [
        "print(factorial(5))"
      ]
    },
    {
      "cell_type": "markdown",
      "metadata": {},
      "source": [
        "Functions can return multiple values, which are packed into a tuple."
      ]
    },
    {
      "cell_type": "code",
      "execution_count": 95,
      "metadata": {
        "id": "ktoOpFHFljsY"
      },
      "outputs": [],
      "source": [
        "def temp():\n",
        "    return 1, 2, 3"
      ]
    },
    {
      "cell_type": "markdown",
      "metadata": {},
      "source": [
        "We can \"unpack\" the tuple into multiple variables."
      ]
    },
    {
      "cell_type": "code",
      "execution_count": 96,
      "metadata": {
        "id": "KjCCa_KEl7GM"
      },
      "outputs": [],
      "source": [
        "a, b, c = temp()"
      ]
    },
    {
      "cell_type": "code",
      "execution_count": 97,
      "metadata": {
        "colab": {
          "base_uri": "https://localhost:8080/"
        },
        "id": "iVXKftJhl-XN",
        "outputId": "decf5ec5-7943-4692-8912-e789ec2a5a3f"
      },
      "outputs": [
        {
          "data": {
            "text/plain": [
              "1"
            ]
          },
          "execution_count": 97,
          "metadata": {},
          "output_type": "execute_result"
        }
      ],
      "source": [
        "a"
      ]
    },
    {
      "cell_type": "markdown",
      "metadata": {
        "id": "5gze9qF4mLgL"
      },
      "source": [
        "# Classes"
      ]
    },
    {
      "cell_type": "markdown",
      "metadata": {},
      "source": [
        "The `__init__` method is a special \"constructor\" that runs when an object is created.`self` refers to the instance of the class itself."
      ]
    },
    {
      "cell_type": "code",
      "execution_count": 98,
      "metadata": {
        "id": "ePExPcODl-_i"
      },
      "outputs": [],
      "source": [
        "class Person:\n",
        "\n",
        "    def __init__(self, name, age):\n",
        "        self.name = name # 'name' is an attribute of the object\n",
        "        self.age = age   # 'age' is another attribute\n",
        "\n",
        "    def introduce(self):\n",
        "        # f-strings (formatted string literals) are a modern way to embed expressions inside strings.\n",
        "        print(f'Hi! I\\'m {self.name}.')"
      ]
    },
    {
      "cell_type": "code",
      "execution_count": 99,
      "metadata": {
        "colab": {
          "base_uri": "https://localhost:8080/"
        },
        "id": "4QIxQuqfmPQt",
        "outputId": "6dbd0b0a-cfbf-4f95-e51a-6c53c9d04a89"
      },
      "outputs": [
        {
          "name": "stdout",
          "output_type": "stream",
          "text": [
            "Hi! I'm Jack.\n"
          ]
        }
      ],
      "source": [
        "p1 = Person('Jack', 10)\n",
        "p1.introduce()"
      ]
    }
  ],
  "metadata": {
    "colab": {
      "provenance": []
    },
    "kernelspec": {
      "display_name": "Python 3",
      "name": "python3"
    },
    "language_info": {
      "codemirror_mode": {
        "name": "ipython",
        "version": 3
      },
      "file_extension": ".py",
      "mimetype": "text/x-python",
      "name": "python",
      "nbconvert_exporter": "python",
      "pygments_lexer": "ipython3",
      "version": "3.13.5"
    }
  },
  "nbformat": 4,
  "nbformat_minor": 0
}
