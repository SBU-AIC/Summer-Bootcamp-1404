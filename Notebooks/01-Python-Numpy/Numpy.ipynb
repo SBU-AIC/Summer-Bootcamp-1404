{
 "cells": [
  {
   "cell_type": "markdown",
   "id": "841f716a",
   "metadata": {},
   "source": [
    "# Numpy"
   ]
  },
  {
   "cell_type": "markdown",
   "id": "773d397f",
   "metadata": {},
   "source": [
    "NumPy is the fundamental package for scientific computing with Python.\n",
    " Its main feature is the powerful N-dimensional array object."
   ]
  },
  {
   "cell_type": "markdown",
   "id": "21b5199b",
   "metadata": {},
   "source": [
    "`pip install numpy`"
   ]
  },
  {
   "cell_type": "code",
   "execution_count": 1,
   "id": "ee21f28c",
   "metadata": {},
   "outputs": [],
   "source": [
    "import numpy as np"
   ]
  },
  {
   "cell_type": "code",
   "execution_count": 2,
   "id": "d7c82ee1",
   "metadata": {},
   "outputs": [],
   "source": [
    "arr = np.array([[1, 2], [3, 4], [5, 6]])"
   ]
  },
  {
   "cell_type": "code",
   "execution_count": 3,
   "id": "0ad5ce15",
   "metadata": {},
   "outputs": [
    {
     "name": "stdout",
     "output_type": "stream",
     "text": [
      "[1 2 3 4]\n",
      "<class 'numpy.ndarray'>\n"
     ]
    }
   ],
   "source": [
    "list1 = [1, 2, 3, 4]\n",
    "a = np.array(list1)\n",
    "print(a)\n",
    "print(type(a)) # The type is ndarray (N-dimensional array)"
   ]
  },
  {
   "cell_type": "code",
   "execution_count": 4,
   "id": "4f117b48",
   "metadata": {},
   "outputs": [
    {
     "name": "stdout",
     "output_type": "stream",
     "text": [
      "Dimensions: 1\n",
      "Data type: int64\n"
     ]
    }
   ],
   "source": [
    "print(\"Dimensions:\", a.ndim)  # Number of dimensions\n",
    "print(\"Data type:\", a.dtype)  # The data type of the elements"
   ]
  },
  {
   "cell_type": "markdown",
   "id": "4a52fde6",
   "metadata": {},
   "source": [
    "### Creating Special Arrays"
   ]
  },
  {
   "cell_type": "code",
   "execution_count": 5,
   "id": "4c68af94",
   "metadata": {},
   "outputs": [
    {
     "name": "stdout",
     "output_type": "stream",
     "text": [
      "[[1. 1. 1.]\n",
      " [1. 1. 1.]]\n",
      "[[0. 0. 0.]\n",
      " [0. 0. 0.]]\n"
     ]
    }
   ],
   "source": [
    "a = np.ones((2, 3)) # Create an array of all ones with shape (2, 3)\n",
    "print(a)\n",
    "\n",
    "a = np.zeros((2, 3)) # Create an array of all zeros\n",
    "print(a)"
   ]
  },
  {
   "cell_type": "markdown",
   "id": "eada0869",
   "metadata": {},
   "source": [
    " `arange` is like Python's `range` but returns a NumPy array."
   ]
  },
  {
   "cell_type": "code",
   "execution_count": 6,
   "id": "51527213",
   "metadata": {},
   "outputs": [
    {
     "name": "stdout",
     "output_type": "stream",
     "text": [
      "[1 2 3 4 5 6 7 8 9]\n"
     ]
    }
   ],
   "source": [
    "a = np.arange(1, 10)\n",
    "print(a)"
   ]
  },
  {
   "cell_type": "markdown",
   "id": "f505faa1",
   "metadata": {},
   "source": [
    "### Operations on NumPy Arrays"
   ]
  },
  {
   "cell_type": "code",
   "execution_count": 7,
   "id": "c74f14f8",
   "metadata": {},
   "outputs": [
    {
     "name": "stdout",
     "output_type": "stream",
     "text": [
      "210\n",
      "[[  1000   8000  27000]\n",
      " [ 64000 125000 216000]]\n"
     ]
    }
   ],
   "source": [
    "a = np.array([[10, 20, 30], [40, 50, 60]])\n",
    "print(a.sum()) # Sum of all elements\n",
    "print(np.power(a, 3)) # Raise every element to the power of 3"
   ]
  },
  {
   "cell_type": "markdown",
   "id": "d629fc76",
   "metadata": {},
   "source": [
    "Vectorized operations are much faster than looping in Python."
   ]
  },
  {
   "cell_type": "code",
   "execution_count": 8,
   "id": "5e3edbf0",
   "metadata": {},
   "outputs": [
    {
     "name": "stdout",
     "output_type": "stream",
     "text": [
      "[ 9 18 27 36]\n",
      "[ 10  40  90 160]\n"
     ]
    }
   ],
   "source": [
    "a = np.array([10, 20, 30, 40])\n",
    "b = np.array([1, 2, 3, 4])\n",
    "c = a - b # Subtracts elements at the same position\n",
    "print(c)\n",
    "d = a * b # Multiplies elements at the same position\n",
    "print(d)"
   ]
  },
  {
   "cell_type": "markdown",
   "id": "b9fb85a5",
   "metadata": {},
   "source": [
    "### Shape and Reshaping"
   ]
  },
  {
   "cell_type": "markdown",
   "id": "2d7f5769",
   "metadata": {},
   "source": [
    " The shape is a tuple representing the size of the array in each dimension.\n"
   ]
  },
  {
   "cell_type": "code",
   "execution_count": 9,
   "id": "ff5b1131",
   "metadata": {},
   "outputs": [
    {
     "name": "stdout",
     "output_type": "stream",
     "text": [
      "Shape: (1, 1, 1, 1, 4)\n"
     ]
    }
   ],
   "source": [
    "arr = np.array([1, 2, 3, 4], ndmin=5)\n",
    "print(\"Shape:\", arr.shape)"
   ]
  },
  {
   "cell_type": "code",
   "execution_count": 10,
   "id": "a5404240",
   "metadata": {},
   "outputs": [],
   "source": [
    "arr = np.array([[1, 2, 3, 4], [1, 2, 3, 4], [1, 2, 3, 4]])"
   ]
  },
  {
   "cell_type": "markdown",
   "id": "aa83cc06",
   "metadata": {},
   "source": [
    " Reshape changes the shape of the array without changing its data.\n",
    " The total number of elements must remain the same.\n",
    " -1 tells NumPy to automatically calculate the size of that dimension."
   ]
  },
  {
   "cell_type": "code",
   "execution_count": 11,
   "id": "51892636",
   "metadata": {},
   "outputs": [
    {
     "name": "stdout",
     "output_type": "stream",
     "text": [
      "[[1 2 3 4 1 2]\n",
      " [3 4 1 2 3 4]]\n"
     ]
    }
   ],
   "source": [
    "newarr = arr.reshape(2, -1)\n",
    "print(newarr)"
   ]
  },
  {
   "cell_type": "markdown",
   "id": "c215f060",
   "metadata": {},
   "source": [
    "### Random Numbers"
   ]
  },
  {
   "cell_type": "code",
   "execution_count": 12,
   "id": "63679265",
   "metadata": {},
   "outputs": [
    {
     "name": "stdout",
     "output_type": "stream",
     "text": [
      "\n",
      "Random array shape: (2, 2, 3, 4)\n"
     ]
    }
   ],
   "source": [
    "x = np.random.rand(2, 2, 3, 4)\n",
    "print(\"\\nRandom array shape:\", x.shape)"
   ]
  },
  {
   "cell_type": "markdown",
   "id": "e8a6b463",
   "metadata": {},
   "source": [
    "### Boolean Indexing"
   ]
  },
  {
   "cell_type": "code",
   "execution_count": 13,
   "id": "990d50d2",
   "metadata": {},
   "outputs": [
    {
     "name": "stdout",
     "output_type": "stream",
     "text": [
      "[0 1 2 3 4 5]\n"
     ]
    }
   ],
   "source": [
    "a = np.arange(6)\n",
    "print(a)"
   ]
  },
  {
   "cell_type": "code",
   "execution_count": 14,
   "id": "d586bb98",
   "metadata": {},
   "outputs": [
    {
     "name": "stdout",
     "output_type": "stream",
     "text": [
      "[False False False  True  True  True]\n"
     ]
    }
   ],
   "source": [
    "print(a > 2)"
   ]
  },
  {
   "cell_type": "code",
   "execution_count": 15,
   "id": "45a46c08",
   "metadata": {},
   "outputs": [
    {
     "name": "stdout",
     "output_type": "stream",
     "text": [
      "[False False False  True False False]\n"
     ]
    }
   ],
   "source": [
    "print((a > 2) & (a < 4))"
   ]
  },
  {
   "cell_type": "markdown",
   "id": "a3379840",
   "metadata": {},
   "source": [
    "### Copy vs. View"
   ]
  },
  {
   "cell_type": "markdown",
   "id": "b3f73f38",
   "metadata": {},
   "source": [
    "This is a critical concept in NumPy for memory management."
   ]
  },
  {
   "cell_type": "code",
   "execution_count": 16,
   "id": "0d01dde4",
   "metadata": {},
   "outputs": [
    {
     "name": "stdout",
     "output_type": "stream",
     "text": [
      "\n",
      "--- Copy Example ---\n",
      "Original: [-50   2   3   4]\n",
      "Copy: [1 2 3 4]\n"
     ]
    }
   ],
   "source": [
    "print(\"\\n--- Copy Example ---\")\n",
    "arr = np.array([1, 2, 3, 4])\n",
    "x = arr.copy()\n",
    "arr[0] = -50 # Change the original\n",
    "print(\"Original:\", arr)\n",
    "print(\"Copy:\", x) # The copy is not affected"
   ]
  },
  {
   "cell_type": "code",
   "execution_count": 17,
   "id": "765e7a65",
   "metadata": {},
   "outputs": [
    {
     "name": "stdout",
     "output_type": "stream",
     "text": [
      "\n",
      "--- View Example ---\n",
      "Original: [-50   2   3   4]\n",
      "View: [-50   2   3   4]\n"
     ]
    }
   ],
   "source": [
    "print(\"\\n--- View Example ---\")\n",
    "arr = np.array([1, 2, 3, 4])\n",
    "x = arr.view()\n",
    "arr[0] = -50 # Change the original\n",
    "print(\"Original:\", arr)\n",
    "print(\"View:\", x) # The view is also changed"
   ]
  },
  {
   "cell_type": "markdown",
   "id": "b8229b70",
   "metadata": {},
   "source": [
    "### NumPy vs. Python List Performance"
   ]
  },
  {
   "cell_type": "markdown",
   "id": "337ed404",
   "metadata": {},
   "source": [
    "This section demonstrates the significant speed advantage of NumPy for\n",
    " numerical calculations on large datasets."
   ]
  },
  {
   "cell_type": "code",
   "execution_count": 18,
   "id": "d69c17f2",
   "metadata": {},
   "outputs": [
    {
     "name": "stdout",
     "output_type": "stream",
     "text": [
      "\n",
      "--- NumPy vs. Python List Performance ---\n",
      "\n",
      "Sum of Elements\n",
      "Python List Sum: 0.073521 seconds\n",
      "NumPy Array Sum: 0.006906 seconds\n",
      "NumPy is 10.65x faster\n",
      "\n",
      "Finding Maximum Value\n",
      "Python List Max: 0.120523 seconds\n",
      "NumPy Array Max: 0.004440 seconds\n",
      "NumPy is 27.15x faster\n"
     ]
    }
   ],
   "source": [
    "print(\"\\n--- NumPy vs. Python List Performance ---\")\n",
    "# Re-importing time and random in case the script is run in sections\n",
    "import time\n",
    "import random\n",
    "\n",
    "size = 10000000\n",
    "python_list = [random.random() for _ in range(size)]\n",
    "numpy_array = np.array(python_list)\n",
    "\n",
    "def time_op(operation, name):\n",
    "    start_time = time.time()\n",
    "    operation()\n",
    "    elapsed_time = time.time() - start_time\n",
    "    print(f\"{name}: {elapsed_time:.6f} seconds\")\n",
    "    return elapsed_time\n",
    "\n",
    "print(\"\\nSum of Elements\")\n",
    "list_time = time_op(lambda: sum(python_list), \"Python List Sum\")\n",
    "array_time = time_op(lambda: np.sum(numpy_array), \"NumPy Array Sum\")\n",
    "print(f\"NumPy is {list_time/array_time:.2f}x faster\" if array_time > 0 else \"NumPy is infinitely faster\")\n",
    "\n",
    "print(\"\\nFinding Maximum Value\")\n",
    "list_time = time_op(lambda: max(python_list), \"Python List Max\")\n",
    "array_time = time_op(lambda: np.max(numpy_array), \"NumPy Array Max\")\n",
    "print(f\"NumPy is {list_time/array_time:.2f}x faster\" if array_time > 0 else \"NumPy is infinitely faster\")"
   ]
  }
 ],
 "metadata": {
  "kernelspec": {
   "display_name": "Python 3",
   "language": "python",
   "name": "python3"
  },
  "language_info": {
   "codemirror_mode": {
    "name": "ipython",
    "version": 3
   },
   "file_extension": ".py",
   "mimetype": "text/x-python",
   "name": "python",
   "nbconvert_exporter": "python",
   "pygments_lexer": "ipython3",
   "version": "3.13.5"
  }
 },
 "nbformat": 4,
 "nbformat_minor": 5
}
